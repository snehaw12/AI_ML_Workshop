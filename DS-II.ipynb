{
 "cells": [
  {
   "cell_type": "code",
   "execution_count": 1,
   "id": "e287d591",
   "metadata": {},
   "outputs": [],
   "source": [
    "###Create an “Academic performance” dataset of students and perform the following operations using Python"
   ]
  },
  {
   "cell_type": "code",
   "execution_count": 2,
   "id": "eab0ca38",
   "metadata": {},
   "outputs": [],
   "source": [
    "###1. Scan all variables for missing values and inconsistencies. If there are missing values and/or\n",
    "###Inconsistencies, use any of the suitable techniques to deal with them."
   ]
  },
  {
   "cell_type": "code",
   "execution_count": 3,
   "id": "48911421",
   "metadata": {},
   "outputs": [],
   "source": [
    "import pandas as pd"
   ]
  },
  {
   "cell_type": "code",
   "execution_count": 5,
   "id": "bf03c76a",
   "metadata": {},
   "outputs": [],
   "source": [
    "df = pd.read_csv('student3.csv')"
   ]
  },
  {
   "cell_type": "code",
   "execution_count": 6,
   "id": "1b5a95d5",
   "metadata": {},
   "outputs": [
    {
     "data": {
      "text/html": [
       "<div>\n",
       "<style scoped>\n",
       "    .dataframe tbody tr th:only-of-type {\n",
       "        vertical-align: middle;\n",
       "    }\n",
       "\n",
       "    .dataframe tbody tr th {\n",
       "        vertical-align: top;\n",
       "    }\n",
       "\n",
       "    .dataframe thead th {\n",
       "        text-align: right;\n",
       "    }\n",
       "</style>\n",
       "<table border=\"1\" class=\"dataframe\">\n",
       "  <thead>\n",
       "    <tr style=\"text-align: right;\">\n",
       "      <th></th>\n",
       "      <th>roll</th>\n",
       "      <th>name</th>\n",
       "      <th>class</th>\n",
       "      <th>marks</th>\n",
       "      <th>age</th>\n",
       "    </tr>\n",
       "  </thead>\n",
       "  <tbody>\n",
       "    <tr>\n",
       "      <th>0</th>\n",
       "      <td>1</td>\n",
       "      <td>anil</td>\n",
       "      <td>TE</td>\n",
       "      <td>56.77</td>\n",
       "      <td>22.0</td>\n",
       "    </tr>\n",
       "    <tr>\n",
       "      <th>1</th>\n",
       "      <td>2</td>\n",
       "      <td>amit</td>\n",
       "      <td>TE</td>\n",
       "      <td>59.77</td>\n",
       "      <td>21.0</td>\n",
       "    </tr>\n",
       "    <tr>\n",
       "      <th>2</th>\n",
       "      <td>3</td>\n",
       "      <td>aniket</td>\n",
       "      <td>BE</td>\n",
       "      <td>76.88</td>\n",
       "      <td>19.0</td>\n",
       "    </tr>\n",
       "    <tr>\n",
       "      <th>3</th>\n",
       "      <td>4</td>\n",
       "      <td>ajinkya</td>\n",
       "      <td>TE</td>\n",
       "      <td>69.66</td>\n",
       "      <td>20.0</td>\n",
       "    </tr>\n",
       "    <tr>\n",
       "      <th>4</th>\n",
       "      <td>5</td>\n",
       "      <td>asha</td>\n",
       "      <td>TE</td>\n",
       "      <td>63.28</td>\n",
       "      <td>NaN</td>\n",
       "    </tr>\n",
       "    <tr>\n",
       "      <th>5</th>\n",
       "      <td>6</td>\n",
       "      <td>ayesha</td>\n",
       "      <td>BE</td>\n",
       "      <td>NaN</td>\n",
       "      <td>20.0</td>\n",
       "    </tr>\n",
       "    <tr>\n",
       "      <th>6</th>\n",
       "      <td>7</td>\n",
       "      <td>amar</td>\n",
       "      <td>BE</td>\n",
       "      <td>65.34</td>\n",
       "      <td>19.0</td>\n",
       "    </tr>\n",
       "    <tr>\n",
       "      <th>7</th>\n",
       "      <td>8</td>\n",
       "      <td>Amita</td>\n",
       "      <td>be</td>\n",
       "      <td>68.33</td>\n",
       "      <td>23.0</td>\n",
       "    </tr>\n",
       "    <tr>\n",
       "      <th>8</th>\n",
       "      <td>9</td>\n",
       "      <td>amol</td>\n",
       "      <td>TE</td>\n",
       "      <td>56.75</td>\n",
       "      <td>20.0</td>\n",
       "    </tr>\n",
       "    <tr>\n",
       "      <th>9</th>\n",
       "      <td>10</td>\n",
       "      <td>anmol</td>\n",
       "      <td>BE</td>\n",
       "      <td>78.66</td>\n",
       "      <td>NaN</td>\n",
       "    </tr>\n",
       "    <tr>\n",
       "      <th>10</th>\n",
       "      <td>11</td>\n",
       "      <td>surbhi</td>\n",
       "      <td>TE</td>\n",
       "      <td>NaN</td>\n",
       "      <td>23.0</td>\n",
       "    </tr>\n",
       "    <tr>\n",
       "      <th>11</th>\n",
       "      <td>12</td>\n",
       "      <td>Sujay</td>\n",
       "      <td>TE</td>\n",
       "      <td>74.12</td>\n",
       "      <td>22.0</td>\n",
       "    </tr>\n",
       "    <tr>\n",
       "      <th>12</th>\n",
       "      <td>13</td>\n",
       "      <td>subhash</td>\n",
       "      <td>be</td>\n",
       "      <td>88.45</td>\n",
       "      <td>21.0</td>\n",
       "    </tr>\n",
       "    <tr>\n",
       "      <th>13</th>\n",
       "      <td>14</td>\n",
       "      <td>sachin</td>\n",
       "      <td>NaN</td>\n",
       "      <td>59.33</td>\n",
       "      <td>21.0</td>\n",
       "    </tr>\n",
       "    <tr>\n",
       "      <th>14</th>\n",
       "      <td>15</td>\n",
       "      <td>shalini</td>\n",
       "      <td>TE</td>\n",
       "      <td>63.45</td>\n",
       "      <td>20.0</td>\n",
       "    </tr>\n",
       "  </tbody>\n",
       "</table>\n",
       "</div>"
      ],
      "text/plain": [
       "    roll     name class  marks    age\n",
       "0      1     anil    TE   56.77  22.0\n",
       "1      2     amit    TE   59.77  21.0\n",
       "2      3   aniket    BE   76.88  19.0\n",
       "3      4  ajinkya    TE   69.66  20.0\n",
       "4      5     asha    TE   63.28   NaN\n",
       "5      6   ayesha    BE     NaN  20.0\n",
       "6      7     amar    BE   65.34  19.0\n",
       "7      8    Amita    be   68.33  23.0\n",
       "8      9     amol    TE   56.75  20.0\n",
       "9     10    anmol    BE   78.66   NaN\n",
       "10    11   surbhi    TE     NaN  23.0\n",
       "11    12    Sujay    TE   74.12  22.0\n",
       "12    13  subhash    be   88.45  21.0\n",
       "13    14   sachin   NaN   59.33  21.0\n",
       "14    15  shalini    TE   63.45  20.0"
      ]
     },
     "execution_count": 6,
     "metadata": {},
     "output_type": "execute_result"
    }
   ],
   "source": [
    "df"
   ]
  },
  {
   "cell_type": "code",
   "execution_count": 7,
   "id": "5f3f75d7",
   "metadata": {},
   "outputs": [
    {
     "data": {
      "text/plain": [
       "(15, 5)"
      ]
     },
     "execution_count": 7,
     "metadata": {},
     "output_type": "execute_result"
    }
   ],
   "source": [
    "df.shape"
   ]
  },
  {
   "cell_type": "code",
   "execution_count": 8,
   "id": "7c086036",
   "metadata": {},
   "outputs": [
    {
     "data": {
      "text/plain": [
       "roll      0\n",
       "name      0\n",
       "class     1\n",
       "marks     2\n",
       "age       2\n",
       "dtype: int64"
      ]
     },
     "execution_count": 8,
     "metadata": {},
     "output_type": "execute_result"
    }
   ],
   "source": [
    "df.isnull().sum()"
   ]
  },
  {
   "cell_type": "code",
   "execution_count": 9,
   "id": "41bacd57",
   "metadata": {},
   "outputs": [
    {
     "data": {
      "text/plain": [
       "roll      15\n",
       "name      15\n",
       "class     14\n",
       "marks     13\n",
       "age       13\n",
       "dtype: int64"
      ]
     },
     "execution_count": 9,
     "metadata": {},
     "output_type": "execute_result"
    }
   ],
   "source": [
    "df.count()"
   ]
  },
  {
   "cell_type": "code",
   "execution_count": 10,
   "id": "4cfaf656",
   "metadata": {},
   "outputs": [
    {
     "name": "stdout",
     "output_type": "stream",
     "text": [
      "<class 'pandas.core.frame.DataFrame'>\n",
      "RangeIndex: 15 entries, 0 to 14\n",
      "Data columns (total 5 columns):\n",
      " #   Column  Non-Null Count  Dtype  \n",
      "---  ------  --------------  -----  \n",
      " 0   roll    15 non-null     int64  \n",
      " 1   name    15 non-null     object \n",
      " 2   class   14 non-null     object \n",
      " 3   marks   13 non-null     float64\n",
      " 4   age     13 non-null     float64\n",
      "dtypes: float64(2), int64(1), object(2)\n",
      "memory usage: 728.0+ bytes\n"
     ]
    }
   ],
   "source": [
    "df.info()"
   ]
  },
  {
   "cell_type": "code",
   "execution_count": 11,
   "id": "cd4212cc",
   "metadata": {},
   "outputs": [],
   "source": [
    "###If there are missing values and/or Inconsistencies, use any of the suitable techniques to deal with them."
   ]
  },
  {
   "cell_type": "code",
   "execution_count": 12,
   "id": "123b66cc",
   "metadata": {},
   "outputs": [
    {
     "data": {
      "text/plain": [
       "0      1\n",
       "1      2\n",
       "2      3\n",
       "3      4\n",
       "4      5\n",
       "5      6\n",
       "6      7\n",
       "7      8\n",
       "8      9\n",
       "9     10\n",
       "10    11\n",
       "11    12\n",
       "12    13\n",
       "13    14\n",
       "14    15\n",
       "Name: roll, dtype: int64"
      ]
     },
     "execution_count": 12,
     "metadata": {},
     "output_type": "execute_result"
    }
   ],
   "source": [
    "df['roll']"
   ]
  },
  {
   "cell_type": "code",
   "execution_count": 15,
   "id": "87ec97db",
   "metadata": {},
   "outputs": [
    {
     "data": {
      "text/plain": [
       "0     22.0\n",
       "1     21.0\n",
       "2     19.0\n",
       "3     20.0\n",
       "4      NaN\n",
       "5     20.0\n",
       "6     19.0\n",
       "7     23.0\n",
       "8     20.0\n",
       "9      NaN\n",
       "10    23.0\n",
       "11    22.0\n",
       "12    21.0\n",
       "13    21.0\n",
       "14    20.0\n",
       "Name: age, dtype: float64"
      ]
     },
     "execution_count": 15,
     "metadata": {},
     "output_type": "execute_result"
    }
   ],
   "source": [
    "df['age']"
   ]
  },
  {
   "cell_type": "code",
   "execution_count": 16,
   "id": "f8a2b2e2",
   "metadata": {},
   "outputs": [
    {
     "data": {
      "text/plain": [
       "0        anil\n",
       "1        amit\n",
       "2      aniket\n",
       "3     ajinkya\n",
       "4        asha\n",
       "5      ayesha\n",
       "6        amar\n",
       "7       Amita\n",
       "8        amol\n",
       "9       anmol\n",
       "10     surbhi\n",
       "11      Sujay\n",
       "12    subhash\n",
       "13     sachin\n",
       "14    shalini\n",
       "Name: name, dtype: object"
      ]
     },
     "execution_count": 16,
     "metadata": {},
     "output_type": "execute_result"
    }
   ],
   "source": [
    "df['name']"
   ]
  },
  {
   "cell_type": "code",
   "execution_count": 18,
   "id": "f7cd543a",
   "metadata": {},
   "outputs": [
    {
     "data": {
      "text/plain": [
       "0      TE\n",
       "1      TE\n",
       "2      BE\n",
       "3      TE\n",
       "4      TE\n",
       "5      BE\n",
       "6      BE\n",
       "7      be\n",
       "8      TE\n",
       "9      BE\n",
       "10     TE\n",
       "11     TE\n",
       "12     be\n",
       "13    NaN\n",
       "14     TE\n",
       "Name: class, dtype: object"
      ]
     },
     "execution_count": 18,
     "metadata": {},
     "output_type": "execute_result"
    }
   ],
   "source": [
    "df['class']"
   ]
  },
  {
   "cell_type": "code",
   "execution_count": 19,
   "id": "328ae308",
   "metadata": {},
   "outputs": [
    {
     "data": {
      "text/plain": [
       "0      1\n",
       "1      2\n",
       "2      3\n",
       "3      4\n",
       "4      5\n",
       "5      6\n",
       "6      7\n",
       "7      8\n",
       "8      9\n",
       "9     10\n",
       "10    11\n",
       "11    12\n",
       "12    13\n",
       "13    14\n",
       "14    15\n",
       "Name: roll, dtype: int64"
      ]
     },
     "execution_count": 19,
     "metadata": {},
     "output_type": "execute_result"
    }
   ],
   "source": [
    "df.roll"
   ]
  },
  {
   "cell_type": "code",
   "execution_count": 20,
   "id": "4a7f5b2d",
   "metadata": {},
   "outputs": [
    {
     "ename": "AttributeError",
     "evalue": "'DataFrame' object has no attribute 'marks'",
     "output_type": "error",
     "traceback": [
      "\u001b[1;31m---------------------------------------------------------------------------\u001b[0m",
      "\u001b[1;31mAttributeError\u001b[0m                            Traceback (most recent call last)",
      "Cell \u001b[1;32mIn[20], line 1\u001b[0m\n\u001b[1;32m----> 1\u001b[0m \u001b[43mdf\u001b[49m\u001b[38;5;241;43m.\u001b[39;49m\u001b[43mmarks\u001b[49m\n",
      "File \u001b[1;32m~\\anaconda3\\lib\\site-packages\\pandas\\core\\generic.py:5575\u001b[0m, in \u001b[0;36mNDFrame.__getattr__\u001b[1;34m(self, name)\u001b[0m\n\u001b[0;32m   5568\u001b[0m \u001b[38;5;28;01mif\u001b[39;00m (\n\u001b[0;32m   5569\u001b[0m     name \u001b[38;5;129;01mnot\u001b[39;00m \u001b[38;5;129;01min\u001b[39;00m \u001b[38;5;28mself\u001b[39m\u001b[38;5;241m.\u001b[39m_internal_names_set\n\u001b[0;32m   5570\u001b[0m     \u001b[38;5;129;01mand\u001b[39;00m name \u001b[38;5;129;01mnot\u001b[39;00m \u001b[38;5;129;01min\u001b[39;00m \u001b[38;5;28mself\u001b[39m\u001b[38;5;241m.\u001b[39m_metadata\n\u001b[0;32m   5571\u001b[0m     \u001b[38;5;129;01mand\u001b[39;00m name \u001b[38;5;129;01mnot\u001b[39;00m \u001b[38;5;129;01min\u001b[39;00m \u001b[38;5;28mself\u001b[39m\u001b[38;5;241m.\u001b[39m_accessors\n\u001b[0;32m   5572\u001b[0m     \u001b[38;5;129;01mand\u001b[39;00m \u001b[38;5;28mself\u001b[39m\u001b[38;5;241m.\u001b[39m_info_axis\u001b[38;5;241m.\u001b[39m_can_hold_identifiers_and_holds_name(name)\n\u001b[0;32m   5573\u001b[0m ):\n\u001b[0;32m   5574\u001b[0m     \u001b[38;5;28;01mreturn\u001b[39;00m \u001b[38;5;28mself\u001b[39m[name]\n\u001b[1;32m-> 5575\u001b[0m \u001b[38;5;28;01mreturn\u001b[39;00m \u001b[38;5;28;43mobject\u001b[39;49m\u001b[38;5;241;43m.\u001b[39;49m\u001b[38;5;21;43m__getattribute__\u001b[39;49m\u001b[43m(\u001b[49m\u001b[38;5;28;43mself\u001b[39;49m\u001b[43m,\u001b[49m\u001b[43m \u001b[49m\u001b[43mname\u001b[49m\u001b[43m)\u001b[49m\n",
      "\u001b[1;31mAttributeError\u001b[0m: 'DataFrame' object has no attribute 'marks'"
     ]
    }
   ],
   "source": [
    "df.marks"
   ]
  },
  {
   "cell_type": "code",
   "execution_count": 21,
   "id": "ed60fce9",
   "metadata": {},
   "outputs": [
    {
     "data": {
      "text/plain": [
       "Index(['roll', 'name', 'class', 'marks ', 'age'], dtype='object')"
      ]
     },
     "execution_count": 21,
     "metadata": {},
     "output_type": "execute_result"
    }
   ],
   "source": [
    "df.columns"
   ]
  },
  {
   "cell_type": "code",
   "execution_count": 22,
   "id": "636160ed",
   "metadata": {},
   "outputs": [
    {
     "data": {
      "text/plain": [
       "0     56.77\n",
       "1     59.77\n",
       "2     76.88\n",
       "3     69.66\n",
       "4     63.28\n",
       "5       NaN\n",
       "6     65.34\n",
       "7     68.33\n",
       "8     56.75\n",
       "9     78.66\n",
       "10      NaN\n",
       "11    74.12\n",
       "12    88.45\n",
       "13    59.33\n",
       "14    63.45\n",
       "Name: marks , dtype: float64"
      ]
     },
     "execution_count": 22,
     "metadata": {},
     "output_type": "execute_result"
    }
   ],
   "source": [
    "df['marks ']"
   ]
  },
  {
   "cell_type": "code",
   "execution_count": 23,
   "id": "495e855e",
   "metadata": {},
   "outputs": [
    {
     "data": {
      "text/plain": [
       "Index(['roll', 'name', 'class', 'marks', 'age'], dtype='object')"
      ]
     },
     "execution_count": 23,
     "metadata": {},
     "output_type": "execute_result"
    }
   ],
   "source": [
    "df.columns.str.strip()"
   ]
  },
  {
   "cell_type": "code",
   "execution_count": 27,
   "id": "93dd906c",
   "metadata": {},
   "outputs": [],
   "source": [
    "df.columns = df.columns.str.strip()"
   ]
  },
  {
   "cell_type": "code",
   "execution_count": 28,
   "id": "546fb3f5",
   "metadata": {},
   "outputs": [
    {
     "data": {
      "text/plain": [
       "0     56.77\n",
       "1     59.77\n",
       "2     76.88\n",
       "3     69.66\n",
       "4     63.28\n",
       "5       NaN\n",
       "6     65.34\n",
       "7     68.33\n",
       "8     56.75\n",
       "9     78.66\n",
       "10      NaN\n",
       "11    74.12\n",
       "12    88.45\n",
       "13    59.33\n",
       "14    63.45\n",
       "Name: marks, dtype: float64"
      ]
     },
     "execution_count": 28,
     "metadata": {},
     "output_type": "execute_result"
    }
   ],
   "source": [
    "df['marks']"
   ]
  },
  {
   "cell_type": "code",
   "execution_count": 29,
   "id": "c1a51509",
   "metadata": {},
   "outputs": [
    {
     "data": {
      "text/plain": [
       "TE    8\n",
       "BE    4\n",
       "be    2\n",
       "Name: class, dtype: int64"
      ]
     },
     "execution_count": 29,
     "metadata": {},
     "output_type": "execute_result"
    }
   ],
   "source": [
    "df['class'].value_counts()"
   ]
  },
  {
   "cell_type": "code",
   "execution_count": 30,
   "id": "ec871818",
   "metadata": {},
   "outputs": [],
   "source": [
    "###convert all the class in upper"
   ]
  },
  {
   "cell_type": "code",
   "execution_count": 31,
   "id": "f7b2cf67",
   "metadata": {},
   "outputs": [
    {
     "data": {
      "text/plain": [
       "0      TE\n",
       "1      TE\n",
       "2      BE\n",
       "3      TE\n",
       "4      TE\n",
       "5      BE\n",
       "6      BE\n",
       "7      BE\n",
       "8      TE\n",
       "9      BE\n",
       "10     TE\n",
       "11     TE\n",
       "12     BE\n",
       "13    NaN\n",
       "14     TE\n",
       "Name: class, dtype: object"
      ]
     },
     "execution_count": 31,
     "metadata": {},
     "output_type": "execute_result"
    }
   ],
   "source": [
    "df['class'].str.upper()"
   ]
  },
  {
   "cell_type": "code",
   "execution_count": 33,
   "id": "6fc8b29c",
   "metadata": {},
   "outputs": [],
   "source": [
    "df['class'] = df['class'].str.upper()"
   ]
  },
  {
   "cell_type": "code",
   "execution_count": 35,
   "id": "c2111d2c",
   "metadata": {},
   "outputs": [
    {
     "data": {
      "text/plain": [
       "TE    8\n",
       "BE    6\n",
       "Name: class, dtype: int64"
      ]
     },
     "execution_count": 35,
     "metadata": {},
     "output_type": "execute_result"
    }
   ],
   "source": [
    "df['class'].value_counts()"
   ]
  },
  {
   "cell_type": "code",
   "execution_count": 36,
   "id": "83fd6ca3",
   "metadata": {},
   "outputs": [
    {
     "data": {
      "text/html": [
       "<div>\n",
       "<style scoped>\n",
       "    .dataframe tbody tr th:only-of-type {\n",
       "        vertical-align: middle;\n",
       "    }\n",
       "\n",
       "    .dataframe tbody tr th {\n",
       "        vertical-align: top;\n",
       "    }\n",
       "\n",
       "    .dataframe thead th {\n",
       "        text-align: right;\n",
       "    }\n",
       "</style>\n",
       "<table border=\"1\" class=\"dataframe\">\n",
       "  <thead>\n",
       "    <tr style=\"text-align: right;\">\n",
       "      <th></th>\n",
       "      <th>roll</th>\n",
       "      <th>name</th>\n",
       "      <th>class</th>\n",
       "      <th>marks</th>\n",
       "      <th>age</th>\n",
       "    </tr>\n",
       "  </thead>\n",
       "  <tbody>\n",
       "    <tr>\n",
       "      <th>0</th>\n",
       "      <td>1</td>\n",
       "      <td>anil</td>\n",
       "      <td>TE</td>\n",
       "      <td>56.77</td>\n",
       "      <td>22.0</td>\n",
       "    </tr>\n",
       "    <tr>\n",
       "      <th>1</th>\n",
       "      <td>2</td>\n",
       "      <td>amit</td>\n",
       "      <td>TE</td>\n",
       "      <td>59.77</td>\n",
       "      <td>21.0</td>\n",
       "    </tr>\n",
       "    <tr>\n",
       "      <th>2</th>\n",
       "      <td>3</td>\n",
       "      <td>aniket</td>\n",
       "      <td>BE</td>\n",
       "      <td>76.88</td>\n",
       "      <td>19.0</td>\n",
       "    </tr>\n",
       "    <tr>\n",
       "      <th>3</th>\n",
       "      <td>4</td>\n",
       "      <td>ajinkya</td>\n",
       "      <td>TE</td>\n",
       "      <td>69.66</td>\n",
       "      <td>20.0</td>\n",
       "    </tr>\n",
       "    <tr>\n",
       "      <th>4</th>\n",
       "      <td>5</td>\n",
       "      <td>asha</td>\n",
       "      <td>TE</td>\n",
       "      <td>63.28</td>\n",
       "      <td>NaN</td>\n",
       "    </tr>\n",
       "    <tr>\n",
       "      <th>5</th>\n",
       "      <td>6</td>\n",
       "      <td>ayesha</td>\n",
       "      <td>BE</td>\n",
       "      <td>NaN</td>\n",
       "      <td>20.0</td>\n",
       "    </tr>\n",
       "    <tr>\n",
       "      <th>6</th>\n",
       "      <td>7</td>\n",
       "      <td>amar</td>\n",
       "      <td>BE</td>\n",
       "      <td>65.34</td>\n",
       "      <td>19.0</td>\n",
       "    </tr>\n",
       "    <tr>\n",
       "      <th>7</th>\n",
       "      <td>8</td>\n",
       "      <td>Amita</td>\n",
       "      <td>BE</td>\n",
       "      <td>68.33</td>\n",
       "      <td>23.0</td>\n",
       "    </tr>\n",
       "    <tr>\n",
       "      <th>8</th>\n",
       "      <td>9</td>\n",
       "      <td>amol</td>\n",
       "      <td>TE</td>\n",
       "      <td>56.75</td>\n",
       "      <td>20.0</td>\n",
       "    </tr>\n",
       "    <tr>\n",
       "      <th>9</th>\n",
       "      <td>10</td>\n",
       "      <td>anmol</td>\n",
       "      <td>BE</td>\n",
       "      <td>78.66</td>\n",
       "      <td>NaN</td>\n",
       "    </tr>\n",
       "    <tr>\n",
       "      <th>10</th>\n",
       "      <td>11</td>\n",
       "      <td>surbhi</td>\n",
       "      <td>TE</td>\n",
       "      <td>NaN</td>\n",
       "      <td>23.0</td>\n",
       "    </tr>\n",
       "    <tr>\n",
       "      <th>11</th>\n",
       "      <td>12</td>\n",
       "      <td>Sujay</td>\n",
       "      <td>TE</td>\n",
       "      <td>74.12</td>\n",
       "      <td>22.0</td>\n",
       "    </tr>\n",
       "    <tr>\n",
       "      <th>12</th>\n",
       "      <td>13</td>\n",
       "      <td>subhash</td>\n",
       "      <td>BE</td>\n",
       "      <td>88.45</td>\n",
       "      <td>21.0</td>\n",
       "    </tr>\n",
       "    <tr>\n",
       "      <th>13</th>\n",
       "      <td>14</td>\n",
       "      <td>sachin</td>\n",
       "      <td>NaN</td>\n",
       "      <td>59.33</td>\n",
       "      <td>21.0</td>\n",
       "    </tr>\n",
       "    <tr>\n",
       "      <th>14</th>\n",
       "      <td>15</td>\n",
       "      <td>shalini</td>\n",
       "      <td>TE</td>\n",
       "      <td>63.45</td>\n",
       "      <td>20.0</td>\n",
       "    </tr>\n",
       "  </tbody>\n",
       "</table>\n",
       "</div>"
      ],
      "text/plain": [
       "    roll     name class  marks   age\n",
       "0      1     anil    TE  56.77  22.0\n",
       "1      2     amit    TE  59.77  21.0\n",
       "2      3   aniket    BE  76.88  19.0\n",
       "3      4  ajinkya    TE  69.66  20.0\n",
       "4      5     asha    TE  63.28   NaN\n",
       "5      6   ayesha    BE    NaN  20.0\n",
       "6      7     amar    BE  65.34  19.0\n",
       "7      8    Amita    BE  68.33  23.0\n",
       "8      9     amol    TE  56.75  20.0\n",
       "9     10    anmol    BE  78.66   NaN\n",
       "10    11   surbhi    TE    NaN  23.0\n",
       "11    12    Sujay    TE  74.12  22.0\n",
       "12    13  subhash    BE  88.45  21.0\n",
       "13    14   sachin   NaN  59.33  21.0\n",
       "14    15  shalini    TE  63.45  20.0"
      ]
     },
     "execution_count": 36,
     "metadata": {},
     "output_type": "execute_result"
    }
   ],
   "source": [
    "df"
   ]
  },
  {
   "cell_type": "code",
   "execution_count": 37,
   "id": "f82e83a9",
   "metadata": {},
   "outputs": [],
   "source": [
    "df['name'] = df['name'].str.title()"
   ]
  },
  {
   "cell_type": "code",
   "execution_count": 38,
   "id": "9e2396c1",
   "metadata": {},
   "outputs": [
    {
     "data": {
      "text/html": [
       "<div>\n",
       "<style scoped>\n",
       "    .dataframe tbody tr th:only-of-type {\n",
       "        vertical-align: middle;\n",
       "    }\n",
       "\n",
       "    .dataframe tbody tr th {\n",
       "        vertical-align: top;\n",
       "    }\n",
       "\n",
       "    .dataframe thead th {\n",
       "        text-align: right;\n",
       "    }\n",
       "</style>\n",
       "<table border=\"1\" class=\"dataframe\">\n",
       "  <thead>\n",
       "    <tr style=\"text-align: right;\">\n",
       "      <th></th>\n",
       "      <th>roll</th>\n",
       "      <th>name</th>\n",
       "      <th>class</th>\n",
       "      <th>marks</th>\n",
       "      <th>age</th>\n",
       "    </tr>\n",
       "  </thead>\n",
       "  <tbody>\n",
       "    <tr>\n",
       "      <th>0</th>\n",
       "      <td>1</td>\n",
       "      <td>Anil</td>\n",
       "      <td>TE</td>\n",
       "      <td>56.77</td>\n",
       "      <td>22.0</td>\n",
       "    </tr>\n",
       "    <tr>\n",
       "      <th>1</th>\n",
       "      <td>2</td>\n",
       "      <td>Amit</td>\n",
       "      <td>TE</td>\n",
       "      <td>59.77</td>\n",
       "      <td>21.0</td>\n",
       "    </tr>\n",
       "    <tr>\n",
       "      <th>2</th>\n",
       "      <td>3</td>\n",
       "      <td>Aniket</td>\n",
       "      <td>BE</td>\n",
       "      <td>76.88</td>\n",
       "      <td>19.0</td>\n",
       "    </tr>\n",
       "    <tr>\n",
       "      <th>3</th>\n",
       "      <td>4</td>\n",
       "      <td>Ajinkya</td>\n",
       "      <td>TE</td>\n",
       "      <td>69.66</td>\n",
       "      <td>20.0</td>\n",
       "    </tr>\n",
       "    <tr>\n",
       "      <th>4</th>\n",
       "      <td>5</td>\n",
       "      <td>Asha</td>\n",
       "      <td>TE</td>\n",
       "      <td>63.28</td>\n",
       "      <td>NaN</td>\n",
       "    </tr>\n",
       "    <tr>\n",
       "      <th>5</th>\n",
       "      <td>6</td>\n",
       "      <td>Ayesha</td>\n",
       "      <td>BE</td>\n",
       "      <td>NaN</td>\n",
       "      <td>20.0</td>\n",
       "    </tr>\n",
       "    <tr>\n",
       "      <th>6</th>\n",
       "      <td>7</td>\n",
       "      <td>Amar</td>\n",
       "      <td>BE</td>\n",
       "      <td>65.34</td>\n",
       "      <td>19.0</td>\n",
       "    </tr>\n",
       "    <tr>\n",
       "      <th>7</th>\n",
       "      <td>8</td>\n",
       "      <td>Amita</td>\n",
       "      <td>BE</td>\n",
       "      <td>68.33</td>\n",
       "      <td>23.0</td>\n",
       "    </tr>\n",
       "    <tr>\n",
       "      <th>8</th>\n",
       "      <td>9</td>\n",
       "      <td>Amol</td>\n",
       "      <td>TE</td>\n",
       "      <td>56.75</td>\n",
       "      <td>20.0</td>\n",
       "    </tr>\n",
       "    <tr>\n",
       "      <th>9</th>\n",
       "      <td>10</td>\n",
       "      <td>Anmol</td>\n",
       "      <td>BE</td>\n",
       "      <td>78.66</td>\n",
       "      <td>NaN</td>\n",
       "    </tr>\n",
       "    <tr>\n",
       "      <th>10</th>\n",
       "      <td>11</td>\n",
       "      <td>Surbhi</td>\n",
       "      <td>TE</td>\n",
       "      <td>NaN</td>\n",
       "      <td>23.0</td>\n",
       "    </tr>\n",
       "    <tr>\n",
       "      <th>11</th>\n",
       "      <td>12</td>\n",
       "      <td>Sujay</td>\n",
       "      <td>TE</td>\n",
       "      <td>74.12</td>\n",
       "      <td>22.0</td>\n",
       "    </tr>\n",
       "    <tr>\n",
       "      <th>12</th>\n",
       "      <td>13</td>\n",
       "      <td>Subhash</td>\n",
       "      <td>BE</td>\n",
       "      <td>88.45</td>\n",
       "      <td>21.0</td>\n",
       "    </tr>\n",
       "    <tr>\n",
       "      <th>13</th>\n",
       "      <td>14</td>\n",
       "      <td>Sachin</td>\n",
       "      <td>NaN</td>\n",
       "      <td>59.33</td>\n",
       "      <td>21.0</td>\n",
       "    </tr>\n",
       "    <tr>\n",
       "      <th>14</th>\n",
       "      <td>15</td>\n",
       "      <td>Shalini</td>\n",
       "      <td>TE</td>\n",
       "      <td>63.45</td>\n",
       "      <td>20.0</td>\n",
       "    </tr>\n",
       "  </tbody>\n",
       "</table>\n",
       "</div>"
      ],
      "text/plain": [
       "    roll     name class  marks   age\n",
       "0      1     Anil    TE  56.77  22.0\n",
       "1      2     Amit    TE  59.77  21.0\n",
       "2      3   Aniket    BE  76.88  19.0\n",
       "3      4  Ajinkya    TE  69.66  20.0\n",
       "4      5     Asha    TE  63.28   NaN\n",
       "5      6   Ayesha    BE    NaN  20.0\n",
       "6      7     Amar    BE  65.34  19.0\n",
       "7      8    Amita    BE  68.33  23.0\n",
       "8      9     Amol    TE  56.75  20.0\n",
       "9     10    Anmol    BE  78.66   NaN\n",
       "10    11   Surbhi    TE    NaN  23.0\n",
       "11    12    Sujay    TE  74.12  22.0\n",
       "12    13  Subhash    BE  88.45  21.0\n",
       "13    14   Sachin   NaN  59.33  21.0\n",
       "14    15  Shalini    TE  63.45  20.0"
      ]
     },
     "execution_count": 38,
     "metadata": {},
     "output_type": "execute_result"
    }
   ],
   "source": [
    "df"
   ]
  },
  {
   "cell_type": "code",
   "execution_count": 39,
   "id": "7b4ab8ac",
   "metadata": {},
   "outputs": [
    {
     "data": {
      "text/html": [
       "<div>\n",
       "<style scoped>\n",
       "    .dataframe tbody tr th:only-of-type {\n",
       "        vertical-align: middle;\n",
       "    }\n",
       "\n",
       "    .dataframe tbody tr th {\n",
       "        vertical-align: top;\n",
       "    }\n",
       "\n",
       "    .dataframe thead th {\n",
       "        text-align: right;\n",
       "    }\n",
       "</style>\n",
       "<table border=\"1\" class=\"dataframe\">\n",
       "  <thead>\n",
       "    <tr style=\"text-align: right;\">\n",
       "      <th></th>\n",
       "      <th>roll</th>\n",
       "      <th>name</th>\n",
       "      <th>class</th>\n",
       "      <th>marks</th>\n",
       "      <th>age</th>\n",
       "    </tr>\n",
       "  </thead>\n",
       "  <tbody>\n",
       "    <tr>\n",
       "      <th>0</th>\n",
       "      <td>1</td>\n",
       "      <td>Anil</td>\n",
       "      <td>TE</td>\n",
       "      <td>56.77</td>\n",
       "      <td>22.0</td>\n",
       "    </tr>\n",
       "    <tr>\n",
       "      <th>1</th>\n",
       "      <td>2</td>\n",
       "      <td>Amit</td>\n",
       "      <td>TE</td>\n",
       "      <td>59.77</td>\n",
       "      <td>21.0</td>\n",
       "    </tr>\n",
       "    <tr>\n",
       "      <th>2</th>\n",
       "      <td>3</td>\n",
       "      <td>Aniket</td>\n",
       "      <td>BE</td>\n",
       "      <td>76.88</td>\n",
       "      <td>19.0</td>\n",
       "    </tr>\n",
       "    <tr>\n",
       "      <th>3</th>\n",
       "      <td>4</td>\n",
       "      <td>Ajinkya</td>\n",
       "      <td>TE</td>\n",
       "      <td>69.66</td>\n",
       "      <td>20.0</td>\n",
       "    </tr>\n",
       "    <tr>\n",
       "      <th>6</th>\n",
       "      <td>7</td>\n",
       "      <td>Amar</td>\n",
       "      <td>BE</td>\n",
       "      <td>65.34</td>\n",
       "      <td>19.0</td>\n",
       "    </tr>\n",
       "    <tr>\n",
       "      <th>7</th>\n",
       "      <td>8</td>\n",
       "      <td>Amita</td>\n",
       "      <td>BE</td>\n",
       "      <td>68.33</td>\n",
       "      <td>23.0</td>\n",
       "    </tr>\n",
       "    <tr>\n",
       "      <th>8</th>\n",
       "      <td>9</td>\n",
       "      <td>Amol</td>\n",
       "      <td>TE</td>\n",
       "      <td>56.75</td>\n",
       "      <td>20.0</td>\n",
       "    </tr>\n",
       "    <tr>\n",
       "      <th>11</th>\n",
       "      <td>12</td>\n",
       "      <td>Sujay</td>\n",
       "      <td>TE</td>\n",
       "      <td>74.12</td>\n",
       "      <td>22.0</td>\n",
       "    </tr>\n",
       "    <tr>\n",
       "      <th>12</th>\n",
       "      <td>13</td>\n",
       "      <td>Subhash</td>\n",
       "      <td>BE</td>\n",
       "      <td>88.45</td>\n",
       "      <td>21.0</td>\n",
       "    </tr>\n",
       "    <tr>\n",
       "      <th>14</th>\n",
       "      <td>15</td>\n",
       "      <td>Shalini</td>\n",
       "      <td>TE</td>\n",
       "      <td>63.45</td>\n",
       "      <td>20.0</td>\n",
       "    </tr>\n",
       "  </tbody>\n",
       "</table>\n",
       "</div>"
      ],
      "text/plain": [
       "    roll     name class  marks   age\n",
       "0      1     Anil    TE  56.77  22.0\n",
       "1      2     Amit    TE  59.77  21.0\n",
       "2      3   Aniket    BE  76.88  19.0\n",
       "3      4  Ajinkya    TE  69.66  20.0\n",
       "6      7     Amar    BE  65.34  19.0\n",
       "7      8    Amita    BE  68.33  23.0\n",
       "8      9     Amol    TE  56.75  20.0\n",
       "11    12    Sujay    TE  74.12  22.0\n",
       "12    13  Subhash    BE  88.45  21.0\n",
       "14    15  Shalini    TE  63.45  20.0"
      ]
     },
     "execution_count": 39,
     "metadata": {},
     "output_type": "execute_result"
    }
   ],
   "source": [
    "df.dropna()"
   ]
  },
  {
   "cell_type": "code",
   "execution_count": 40,
   "id": "cf9209ae",
   "metadata": {},
   "outputs": [
    {
     "data": {
      "text/plain": [
       "0     56.770000\n",
       "1     59.770000\n",
       "2     76.880000\n",
       "3     69.660000\n",
       "4     63.280000\n",
       "5     67.753077\n",
       "6     65.340000\n",
       "7     68.330000\n",
       "8     56.750000\n",
       "9     78.660000\n",
       "10    67.753077\n",
       "11    74.120000\n",
       "12    88.450000\n",
       "13    59.330000\n",
       "14    63.450000\n",
       "Name: marks, dtype: float64"
      ]
     },
     "execution_count": 40,
     "metadata": {},
     "output_type": "execute_result"
    }
   ],
   "source": [
    "df['marks'].fillna(df['marks'].mean())"
   ]
  },
  {
   "cell_type": "code",
   "execution_count": 41,
   "id": "6339bf16",
   "metadata": {},
   "outputs": [
    {
     "data": {
      "text/plain": [
       "0     22.0\n",
       "1     21.0\n",
       "2     19.0\n",
       "3     20.0\n",
       "4     21.0\n",
       "5     20.0\n",
       "6     19.0\n",
       "7     23.0\n",
       "8     20.0\n",
       "9     21.0\n",
       "10    23.0\n",
       "11    22.0\n",
       "12    21.0\n",
       "13    21.0\n",
       "14    20.0\n",
       "Name: age, dtype: float64"
      ]
     },
     "execution_count": 41,
     "metadata": {},
     "output_type": "execute_result"
    }
   ],
   "source": [
    "df['age'].fillna(df['age'].median())"
   ]
  },
  {
   "cell_type": "code",
   "execution_count": 43,
   "id": "a2a56897",
   "metadata": {},
   "outputs": [
    {
     "data": {
      "text/plain": [
       "'TE'"
      ]
     },
     "execution_count": 43,
     "metadata": {},
     "output_type": "execute_result"
    }
   ],
   "source": [
    "df['class'].mode()[0]"
   ]
  },
  {
   "cell_type": "code",
   "execution_count": 44,
   "id": "1b2a5078",
   "metadata": {},
   "outputs": [
    {
     "data": {
      "text/plain": [
       "0     TE\n",
       "1     TE\n",
       "2     BE\n",
       "3     TE\n",
       "4     TE\n",
       "5     BE\n",
       "6     BE\n",
       "7     BE\n",
       "8     TE\n",
       "9     BE\n",
       "10    TE\n",
       "11    TE\n",
       "12    BE\n",
       "13    TE\n",
       "14    TE\n",
       "Name: class, dtype: object"
      ]
     },
     "execution_count": 44,
     "metadata": {},
     "output_type": "execute_result"
    }
   ],
   "source": [
    "df['class'].fillna(df['class'].mode()[0])"
   ]
  },
  {
   "cell_type": "code",
   "execution_count": 45,
   "id": "b5b620f7",
   "metadata": {},
   "outputs": [],
   "source": [
    "df.fillna(method='backfill', inplace=True)"
   ]
  },
  {
   "cell_type": "code",
   "execution_count": 46,
   "id": "5cda89c4",
   "metadata": {},
   "outputs": [
    {
     "data": {
      "text/html": [
       "<div>\n",
       "<style scoped>\n",
       "    .dataframe tbody tr th:only-of-type {\n",
       "        vertical-align: middle;\n",
       "    }\n",
       "\n",
       "    .dataframe tbody tr th {\n",
       "        vertical-align: top;\n",
       "    }\n",
       "\n",
       "    .dataframe thead th {\n",
       "        text-align: right;\n",
       "    }\n",
       "</style>\n",
       "<table border=\"1\" class=\"dataframe\">\n",
       "  <thead>\n",
       "    <tr style=\"text-align: right;\">\n",
       "      <th></th>\n",
       "      <th>roll</th>\n",
       "      <th>name</th>\n",
       "      <th>class</th>\n",
       "      <th>marks</th>\n",
       "      <th>age</th>\n",
       "    </tr>\n",
       "  </thead>\n",
       "  <tbody>\n",
       "    <tr>\n",
       "      <th>0</th>\n",
       "      <td>1</td>\n",
       "      <td>Anil</td>\n",
       "      <td>TE</td>\n",
       "      <td>56.77</td>\n",
       "      <td>22.0</td>\n",
       "    </tr>\n",
       "    <tr>\n",
       "      <th>1</th>\n",
       "      <td>2</td>\n",
       "      <td>Amit</td>\n",
       "      <td>TE</td>\n",
       "      <td>59.77</td>\n",
       "      <td>21.0</td>\n",
       "    </tr>\n",
       "    <tr>\n",
       "      <th>2</th>\n",
       "      <td>3</td>\n",
       "      <td>Aniket</td>\n",
       "      <td>BE</td>\n",
       "      <td>76.88</td>\n",
       "      <td>19.0</td>\n",
       "    </tr>\n",
       "    <tr>\n",
       "      <th>3</th>\n",
       "      <td>4</td>\n",
       "      <td>Ajinkya</td>\n",
       "      <td>TE</td>\n",
       "      <td>69.66</td>\n",
       "      <td>20.0</td>\n",
       "    </tr>\n",
       "    <tr>\n",
       "      <th>4</th>\n",
       "      <td>5</td>\n",
       "      <td>Asha</td>\n",
       "      <td>TE</td>\n",
       "      <td>63.28</td>\n",
       "      <td>20.0</td>\n",
       "    </tr>\n",
       "    <tr>\n",
       "      <th>5</th>\n",
       "      <td>6</td>\n",
       "      <td>Ayesha</td>\n",
       "      <td>BE</td>\n",
       "      <td>65.34</td>\n",
       "      <td>20.0</td>\n",
       "    </tr>\n",
       "    <tr>\n",
       "      <th>6</th>\n",
       "      <td>7</td>\n",
       "      <td>Amar</td>\n",
       "      <td>BE</td>\n",
       "      <td>65.34</td>\n",
       "      <td>19.0</td>\n",
       "    </tr>\n",
       "    <tr>\n",
       "      <th>7</th>\n",
       "      <td>8</td>\n",
       "      <td>Amita</td>\n",
       "      <td>BE</td>\n",
       "      <td>68.33</td>\n",
       "      <td>23.0</td>\n",
       "    </tr>\n",
       "    <tr>\n",
       "      <th>8</th>\n",
       "      <td>9</td>\n",
       "      <td>Amol</td>\n",
       "      <td>TE</td>\n",
       "      <td>56.75</td>\n",
       "      <td>20.0</td>\n",
       "    </tr>\n",
       "    <tr>\n",
       "      <th>9</th>\n",
       "      <td>10</td>\n",
       "      <td>Anmol</td>\n",
       "      <td>BE</td>\n",
       "      <td>78.66</td>\n",
       "      <td>23.0</td>\n",
       "    </tr>\n",
       "    <tr>\n",
       "      <th>10</th>\n",
       "      <td>11</td>\n",
       "      <td>Surbhi</td>\n",
       "      <td>TE</td>\n",
       "      <td>74.12</td>\n",
       "      <td>23.0</td>\n",
       "    </tr>\n",
       "    <tr>\n",
       "      <th>11</th>\n",
       "      <td>12</td>\n",
       "      <td>Sujay</td>\n",
       "      <td>TE</td>\n",
       "      <td>74.12</td>\n",
       "      <td>22.0</td>\n",
       "    </tr>\n",
       "    <tr>\n",
       "      <th>12</th>\n",
       "      <td>13</td>\n",
       "      <td>Subhash</td>\n",
       "      <td>BE</td>\n",
       "      <td>88.45</td>\n",
       "      <td>21.0</td>\n",
       "    </tr>\n",
       "    <tr>\n",
       "      <th>13</th>\n",
       "      <td>14</td>\n",
       "      <td>Sachin</td>\n",
       "      <td>TE</td>\n",
       "      <td>59.33</td>\n",
       "      <td>21.0</td>\n",
       "    </tr>\n",
       "    <tr>\n",
       "      <th>14</th>\n",
       "      <td>15</td>\n",
       "      <td>Shalini</td>\n",
       "      <td>TE</td>\n",
       "      <td>63.45</td>\n",
       "      <td>20.0</td>\n",
       "    </tr>\n",
       "  </tbody>\n",
       "</table>\n",
       "</div>"
      ],
      "text/plain": [
       "    roll     name class  marks   age\n",
       "0      1     Anil    TE  56.77  22.0\n",
       "1      2     Amit    TE  59.77  21.0\n",
       "2      3   Aniket    BE  76.88  19.0\n",
       "3      4  Ajinkya    TE  69.66  20.0\n",
       "4      5     Asha    TE  63.28  20.0\n",
       "5      6   Ayesha    BE  65.34  20.0\n",
       "6      7     Amar    BE  65.34  19.0\n",
       "7      8    Amita    BE  68.33  23.0\n",
       "8      9     Amol    TE  56.75  20.0\n",
       "9     10    Anmol    BE  78.66  23.0\n",
       "10    11   Surbhi    TE  74.12  23.0\n",
       "11    12    Sujay    TE  74.12  22.0\n",
       "12    13  Subhash    BE  88.45  21.0\n",
       "13    14   Sachin    TE  59.33  21.0\n",
       "14    15  Shalini    TE  63.45  20.0"
      ]
     },
     "execution_count": 46,
     "metadata": {},
     "output_type": "execute_result"
    }
   ],
   "source": [
    "df"
   ]
  },
  {
   "cell_type": "code",
   "execution_count": 47,
   "id": "23f86b73",
   "metadata": {},
   "outputs": [],
   "source": [
    "#Scan all numeric variables for outliers. If there are outliers, use any of the suitable techniques \n",
    "#to deal with them"
   ]
  },
  {
   "cell_type": "code",
   "execution_count": 48,
   "id": "32b22645",
   "metadata": {},
   "outputs": [],
   "source": [
    "#to find the outlier their is boxplot (best method)"
   ]
  },
  {
   "cell_type": "code",
   "execution_count": 49,
   "id": "d2842023",
   "metadata": {},
   "outputs": [],
   "source": [
    "import seaborn as sns"
   ]
  },
  {
   "cell_type": "code",
   "execution_count": 50,
   "id": "091933db",
   "metadata": {},
   "outputs": [
    {
     "data": {
      "text/plain": [
       "<AxesSubplot: >"
      ]
     },
     "execution_count": 50,
     "metadata": {},
     "output_type": "execute_result"
    },
    {
     "data": {
      "image/png": "[encoded data removed]",
      "text/plain": [
       "<Figure size 640x480 with 1 Axes>"
      ]
     },
     "metadata": {},
     "output_type": "display_data"
    }
   ],
   "source": [
    "sns.boxplot(df[['roll','marks','age']])"
   ]
  },
  {
   "cell_type": "code",
   "execution_count": 51,
   "id": "f612f5eb",
   "metadata": {},
   "outputs": [
    {
     "data": {
      "text/plain": [
       "<AxesSubplot: >"
      ]
     },
     "execution_count": 51,
     "metadata": {},
     "output_type": "execute_result"
    },
    {
     "data": {
      "image/png": "[encoded data removed]",
      "text/plain": [
       "<Figure size 640x480 with 1 Axes>"
      ]
     },
     "metadata": {},
     "output_type": "display_data"
    }
   ],
   "source": [
    "sns.boxplot(df['roll'])"
   ]
  },
  {
   "cell_type": "code",
   "execution_count": 52,
   "id": "17a602a2",
   "metadata": {},
   "outputs": [
    {
     "data": {
      "text/plain": [
       "<AxesSubplot: xlabel='roll', ylabel='Density'>"
      ]
     },
     "execution_count": 52,
     "metadata": {},
     "output_type": "execute_result"
    },
    {
     "data": {
      "image/png": "[encoded data removed]",
      "text/plain": [
       "<Figure size 640x480 with 1 Axes>"
      ]
     },
     "metadata": {},
     "output_type": "display_data"
    }
   ],
   "source": [
    "sns.kdeplot(df['roll'])"
   ]
  },
  {
   "cell_type": "code",
   "execution_count": 53,
   "id": "87b369e8",
   "metadata": {},
   "outputs": [],
   "source": [
    "#histogram plot"
   ]
  },
  {
   "cell_type": "code",
   "execution_count": 54,
   "id": "6f7dc186",
   "metadata": {},
   "outputs": [
    {
     "data": {
      "text/plain": [
       "<AxesSubplot: xlabel='roll', ylabel='Count'>"
      ]
     },
     "execution_count": 54,
     "metadata": {},
     "output_type": "execute_result"
    },
    {
     "data": {
      "image/png": "[encoded data removed]",
      "text/plain": [
       "<Figure size 640x480 with 1 Axes>"
      ]
     },
     "metadata": {},
     "output_type": "display_data"
    }
   ],
   "source": [
    "sns.histplot(df['roll'])"
   ]
  },
  {
   "cell_type": "code",
   "execution_count": 55,
   "id": "516592a1",
   "metadata": {},
   "outputs": [
    {
     "data": {
      "text/plain": [
       "<AxesSubplot: xlabel='marks', ylabel='Density'>"
      ]
     },
     "execution_count": 55,
     "metadata": {},
     "output_type": "execute_result"
    },
    {
     "data": {
      "image/png": "[encoded data removed]",
      "text/plain": [
       "<Figure size 640x480 with 1 Axes>"
      ]
     },
     "metadata": {},
     "output_type": "display_data"
    }
   ],
   "source": [
    "sns.kdeplot(df['marks'])"
   ]
  },
  {
   "cell_type": "code",
   "execution_count": 58,
   "id": "afaa25f6",
   "metadata": {},
   "outputs": [],
   "source": [
    "df.iloc[1,3]=95.34"
   ]
  },
  {
   "cell_type": "code",
   "execution_count": 56,
   "id": "42b872c1",
   "metadata": {},
   "outputs": [
    {
     "data": {
      "text/plain": [
       "<AxesSubplot: >"
      ]
     },
     "execution_count": 56,
     "metadata": {},
     "output_type": "execute_result"
    },
    {
     "data": {
      "image/png": "[encoded data removed]",
      "text/plain": [
       "<Figure size 640x480 with 1 Axes>"
      ]
     },
     "metadata": {},
     "output_type": "display_data"
    }
   ],
   "source": [
    "sns.boxplot(data=df['marks'])"
   ]
  },
  {
   "cell_type": "code",
   "execution_count": 59,
   "id": "7fb81aa5",
   "metadata": {},
   "outputs": [
    {
     "data": {
      "text/plain": [
       "<AxesSubplot: xlabel='marks', ylabel='Density'>"
      ]
     },
     "execution_count": 59,
     "metadata": {},
     "output_type": "execute_result"
    },
    {
     "data": {
      "image/png": "[encoded data removed]",
      "text/plain": [
       "<Figure size 640x480 with 1 Axes>"
      ]
     },
     "metadata": {},
     "output_type": "display_data"
    }
   ],
   "source": [
    "sns.kdeplot(data=df['marks'])"
   ]
  },
  {
   "cell_type": "code",
   "execution_count": 60,
   "id": "42bef2f0",
   "metadata": {},
   "outputs": [
    {
     "data": {
      "text/plain": [
       "<AxesSubplot: xlabel='marks', ylabel='Count'>"
      ]
     },
     "execution_count": 60,
     "metadata": {},
     "output_type": "execute_result"
    },
    {
     "data": {
      "image/png": "[encoded data removed]",
      "text/plain": [
       "<Figure size 640x480 with 1 Axes>"
      ]
     },
     "metadata": {},
     "output_type": "display_data"
    }
   ],
   "source": [
    "sns.histplot(data=df['marks'])"
   ]
  },
  {
   "cell_type": "code",
   "execution_count": 61,
   "id": "74457868",
   "metadata": {},
   "outputs": [],
   "source": [
    "import matplotlib.pyplot as plt"
   ]
  },
  {
   "cell_type": "code",
   "execution_count": 64,
   "id": "13e943e2",
   "metadata": {},
   "outputs": [
    {
     "data": {
      "text/plain": [
       "<AxesSubplot: xlabel='marks', ylabel='Count'>"
      ]
     },
     "execution_count": 64,
     "metadata": {},
     "output_type": "execute_result"
    },
    {
     "data": {
      "image/png": "[encoded data removed]",
      "text/plain": [
       "<Figure size 640x480 with 3 Axes>"
      ]
     },
     "metadata": {},
     "output_type": "display_data"
    }
   ],
   "source": [
    "plt.subplot(2,2,1)\n",
    "sns.boxplot(data=df['marks'])\n",
    "plt.subplot(2,2,2)\n",
    "sns.kdeplot(data=df['marks'])\n",
    "plt.subplot(2,2,3)\n",
    "sns.histplot(data=df['marks'])"
   ]
  },
  {
   "cell_type": "code",
   "execution_count": 65,
   "id": "8f0678a5",
   "metadata": {},
   "outputs": [],
   "source": [
    "##boolean filtering"
   ]
  },
  {
   "cell_type": "code",
   "execution_count": 68,
   "id": "1cbf2a50",
   "metadata": {},
   "outputs": [],
   "source": [
    "df=df[df['marks']<90]"
   ]
  },
  {
   "cell_type": "code",
   "execution_count": 69,
   "id": "e160aba7",
   "metadata": {},
   "outputs": [
    {
     "data": {
      "text/plain": [
       "(14, 5)"
      ]
     },
     "execution_count": 69,
     "metadata": {},
     "output_type": "execute_result"
    }
   ],
   "source": [
    "df.shape"
   ]
  },
  {
   "cell_type": "code",
   "execution_count": 70,
   "id": "e4503f7a",
   "metadata": {},
   "outputs": [
    {
     "data": {
      "text/plain": [
       "<AxesSubplot: >"
      ]
     },
     "execution_count": 70,
     "metadata": {},
     "output_type": "execute_result"
    },
    {
     "data": {
      "image/png": "[encoded data removed]",
      "text/plain": [
       "<Figure size 640x480 with 1 Axes>"
      ]
     },
     "metadata": {},
     "output_type": "display_data"
    }
   ],
   "source": [
    "sns.boxplot(data=df['marks'])"
   ]
  },
  {
   "cell_type": "code",
   "execution_count": 71,
   "id": "4fc81f18",
   "metadata": {},
   "outputs": [],
   "source": [
    "###3. Apply data transformations on at least one of the variables. The purpose of this transformation\n",
    "###should be one of the following reasons: to change the scale for better understanding of the \n",
    "#variable, to convert a non-linear relation into a linear one, or to decrease the skewness and \n",
    "#convert the distribution into a normal distribution"
   ]
  },
  {
   "cell_type": "code",
   "execution_count": 72,
   "id": "1a56edfc",
   "metadata": {},
   "outputs": [],
   "source": [
    "#to change the scale for better understanding of the variables"
   ]
  },
  {
   "cell_type": "code",
   "execution_count": 73,
   "id": "f8a35a06",
   "metadata": {},
   "outputs": [],
   "source": [
    "#lambda function  keyword in Python for defining the anonymous function."
   ]
  },
  {
   "cell_type": "code",
   "execution_count": 74,
   "id": "e3df8ec9",
   "metadata": {},
   "outputs": [
    {
     "data": {
      "text/plain": [
       "0     6.127\n",
       "2     8.138\n",
       "3     7.416\n",
       "4     6.778\n",
       "5     6.984\n",
       "6     6.984\n",
       "7     7.283\n",
       "8     6.125\n",
       "9     8.316\n",
       "10    7.862\n",
       "11    7.862\n",
       "12    9.295\n",
       "13    6.383\n",
       "14    6.795\n",
       "Name: marks, dtype: float64"
      ]
     },
     "execution_count": 74,
     "metadata": {},
     "output_type": "execute_result"
    }
   ],
   "source": [
    "df['marks'].apply(lambda x : x/10+0.45)"
   ]
  },
  {
   "cell_type": "code",
   "execution_count": 75,
   "id": "89f5a514",
   "metadata": {},
   "outputs": [
    {
     "name": "stderr",
     "output_type": "stream",
     "text": [
      "C:\\Users\\user\\AppData\\Local\\Temp\\ipykernel_9636\\2200893754.py:1: SettingWithCopyWarning: \n",
      "A value is trying to be set on a copy of a slice from a DataFrame.\n",
      "Try using .loc[row_indexer,col_indexer] = value instead\n",
      "\n",
      "See the caveats in the documentation: https://pandas.pydata.org/pandas-docs/stable/user_guide/indexing.html#returning-a-view-versus-a-copy\n",
      "  df['marks']= df['marks'].apply(lambda x: x/10 + 0.45)\n"
     ]
    }
   ],
   "source": [
    "df['marks']= df['marks'].apply(lambda x: x/10 + 0.45)"
   ]
  },
  {
   "cell_type": "code",
   "execution_count": 76,
   "id": "246e2b29",
   "metadata": {},
   "outputs": [
    {
     "data": {
      "text/html": [
       "<div>\n",
       "<style scoped>\n",
       "    .dataframe tbody tr th:only-of-type {\n",
       "        vertical-align: middle;\n",
       "    }\n",
       "\n",
       "    .dataframe tbody tr th {\n",
       "        vertical-align: top;\n",
       "    }\n",
       "\n",
       "    .dataframe thead th {\n",
       "        text-align: right;\n",
       "    }\n",
       "</style>\n",
       "<table border=\"1\" class=\"dataframe\">\n",
       "  <thead>\n",
       "    <tr style=\"text-align: right;\">\n",
       "      <th></th>\n",
       "      <th>roll</th>\n",
       "      <th>name</th>\n",
       "      <th>class</th>\n",
       "      <th>marks</th>\n",
       "      <th>age</th>\n",
       "    </tr>\n",
       "  </thead>\n",
       "  <tbody>\n",
       "    <tr>\n",
       "      <th>0</th>\n",
       "      <td>1</td>\n",
       "      <td>Anil</td>\n",
       "      <td>TE</td>\n",
       "      <td>6.127</td>\n",
       "      <td>22.0</td>\n",
       "    </tr>\n",
       "    <tr>\n",
       "      <th>2</th>\n",
       "      <td>3</td>\n",
       "      <td>Aniket</td>\n",
       "      <td>BE</td>\n",
       "      <td>8.138</td>\n",
       "      <td>19.0</td>\n",
       "    </tr>\n",
       "    <tr>\n",
       "      <th>3</th>\n",
       "      <td>4</td>\n",
       "      <td>Ajinkya</td>\n",
       "      <td>TE</td>\n",
       "      <td>7.416</td>\n",
       "      <td>20.0</td>\n",
       "    </tr>\n",
       "    <tr>\n",
       "      <th>4</th>\n",
       "      <td>5</td>\n",
       "      <td>Asha</td>\n",
       "      <td>TE</td>\n",
       "      <td>6.778</td>\n",
       "      <td>20.0</td>\n",
       "    </tr>\n",
       "    <tr>\n",
       "      <th>5</th>\n",
       "      <td>6</td>\n",
       "      <td>Ayesha</td>\n",
       "      <td>BE</td>\n",
       "      <td>6.984</td>\n",
       "      <td>20.0</td>\n",
       "    </tr>\n",
       "    <tr>\n",
       "      <th>6</th>\n",
       "      <td>7</td>\n",
       "      <td>Amar</td>\n",
       "      <td>BE</td>\n",
       "      <td>6.984</td>\n",
       "      <td>19.0</td>\n",
       "    </tr>\n",
       "    <tr>\n",
       "      <th>7</th>\n",
       "      <td>8</td>\n",
       "      <td>Amita</td>\n",
       "      <td>BE</td>\n",
       "      <td>7.283</td>\n",
       "      <td>23.0</td>\n",
       "    </tr>\n",
       "    <tr>\n",
       "      <th>8</th>\n",
       "      <td>9</td>\n",
       "      <td>Amol</td>\n",
       "      <td>TE</td>\n",
       "      <td>6.125</td>\n",
       "      <td>20.0</td>\n",
       "    </tr>\n",
       "    <tr>\n",
       "      <th>9</th>\n",
       "      <td>10</td>\n",
       "      <td>Anmol</td>\n",
       "      <td>BE</td>\n",
       "      <td>8.316</td>\n",
       "      <td>23.0</td>\n",
       "    </tr>\n",
       "    <tr>\n",
       "      <th>10</th>\n",
       "      <td>11</td>\n",
       "      <td>Surbhi</td>\n",
       "      <td>TE</td>\n",
       "      <td>7.862</td>\n",
       "      <td>23.0</td>\n",
       "    </tr>\n",
       "    <tr>\n",
       "      <th>11</th>\n",
       "      <td>12</td>\n",
       "      <td>Sujay</td>\n",
       "      <td>TE</td>\n",
       "      <td>7.862</td>\n",
       "      <td>22.0</td>\n",
       "    </tr>\n",
       "    <tr>\n",
       "      <th>12</th>\n",
       "      <td>13</td>\n",
       "      <td>Subhash</td>\n",
       "      <td>BE</td>\n",
       "      <td>9.295</td>\n",
       "      <td>21.0</td>\n",
       "    </tr>\n",
       "    <tr>\n",
       "      <th>13</th>\n",
       "      <td>14</td>\n",
       "      <td>Sachin</td>\n",
       "      <td>TE</td>\n",
       "      <td>6.383</td>\n",
       "      <td>21.0</td>\n",
       "    </tr>\n",
       "    <tr>\n",
       "      <th>14</th>\n",
       "      <td>15</td>\n",
       "      <td>Shalini</td>\n",
       "      <td>TE</td>\n",
       "      <td>6.795</td>\n",
       "      <td>20.0</td>\n",
       "    </tr>\n",
       "  </tbody>\n",
       "</table>\n",
       "</div>"
      ],
      "text/plain": [
       "    roll     name class  marks   age\n",
       "0      1     Anil    TE  6.127  22.0\n",
       "2      3   Aniket    BE  8.138  19.0\n",
       "3      4  Ajinkya    TE  7.416  20.0\n",
       "4      5     Asha    TE  6.778  20.0\n",
       "5      6   Ayesha    BE  6.984  20.0\n",
       "6      7     Amar    BE  6.984  19.0\n",
       "7      8    Amita    BE  7.283  23.0\n",
       "8      9     Amol    TE  6.125  20.0\n",
       "9     10    Anmol    BE  8.316  23.0\n",
       "10    11   Surbhi    TE  7.862  23.0\n",
       "11    12    Sujay    TE  7.862  22.0\n",
       "12    13  Subhash    BE  9.295  21.0\n",
       "13    14   Sachin    TE  6.383  21.0\n",
       "14    15  Shalini    TE  6.795  20.0"
      ]
     },
     "execution_count": 76,
     "metadata": {},
     "output_type": "execute_result"
    }
   ],
   "source": [
    "df"
   ]
  },
  {
   "cell_type": "code",
   "execution_count": 77,
   "id": "6dcd61fd",
   "metadata": {},
   "outputs": [
    {
     "data": {
      "text/html": [
       "<div>\n",
       "<style scoped>\n",
       "    .dataframe tbody tr th:only-of-type {\n",
       "        vertical-align: middle;\n",
       "    }\n",
       "\n",
       "    .dataframe tbody tr th {\n",
       "        vertical-align: top;\n",
       "    }\n",
       "\n",
       "    .dataframe thead th {\n",
       "        text-align: right;\n",
       "    }\n",
       "</style>\n",
       "<table border=\"1\" class=\"dataframe\">\n",
       "  <thead>\n",
       "    <tr style=\"text-align: right;\">\n",
       "      <th></th>\n",
       "      <th>roll</th>\n",
       "      <th>name</th>\n",
       "      <th>class</th>\n",
       "      <th>marks</th>\n",
       "      <th>age</th>\n",
       "    </tr>\n",
       "  </thead>\n",
       "  <tbody>\n",
       "    <tr>\n",
       "      <th>0</th>\n",
       "      <td>1</td>\n",
       "      <td>Anil</td>\n",
       "      <td>TE</td>\n",
       "      <td>6.127</td>\n",
       "      <td>22.0</td>\n",
       "    </tr>\n",
       "    <tr>\n",
       "      <th>2</th>\n",
       "      <td>3</td>\n",
       "      <td>Aniket</td>\n",
       "      <td>BE</td>\n",
       "      <td>8.138</td>\n",
       "      <td>19.0</td>\n",
       "    </tr>\n",
       "    <tr>\n",
       "      <th>3</th>\n",
       "      <td>4</td>\n",
       "      <td>Ajinkya</td>\n",
       "      <td>TE</td>\n",
       "      <td>7.416</td>\n",
       "      <td>20.0</td>\n",
       "    </tr>\n",
       "    <tr>\n",
       "      <th>4</th>\n",
       "      <td>5</td>\n",
       "      <td>Asha</td>\n",
       "      <td>TE</td>\n",
       "      <td>6.778</td>\n",
       "      <td>20.0</td>\n",
       "    </tr>\n",
       "    <tr>\n",
       "      <th>5</th>\n",
       "      <td>6</td>\n",
       "      <td>Ayesha</td>\n",
       "      <td>BE</td>\n",
       "      <td>6.984</td>\n",
       "      <td>20.0</td>\n",
       "    </tr>\n",
       "    <tr>\n",
       "      <th>6</th>\n",
       "      <td>7</td>\n",
       "      <td>Amar</td>\n",
       "      <td>BE</td>\n",
       "      <td>6.984</td>\n",
       "      <td>19.0</td>\n",
       "    </tr>\n",
       "    <tr>\n",
       "      <th>7</th>\n",
       "      <td>8</td>\n",
       "      <td>Amita</td>\n",
       "      <td>BE</td>\n",
       "      <td>7.283</td>\n",
       "      <td>23.0</td>\n",
       "    </tr>\n",
       "    <tr>\n",
       "      <th>8</th>\n",
       "      <td>9</td>\n",
       "      <td>Amol</td>\n",
       "      <td>TE</td>\n",
       "      <td>6.125</td>\n",
       "      <td>20.0</td>\n",
       "    </tr>\n",
       "    <tr>\n",
       "      <th>9</th>\n",
       "      <td>10</td>\n",
       "      <td>Anmol</td>\n",
       "      <td>BE</td>\n",
       "      <td>8.316</td>\n",
       "      <td>23.0</td>\n",
       "    </tr>\n",
       "    <tr>\n",
       "      <th>10</th>\n",
       "      <td>11</td>\n",
       "      <td>Surbhi</td>\n",
       "      <td>TE</td>\n",
       "      <td>7.862</td>\n",
       "      <td>23.0</td>\n",
       "    </tr>\n",
       "    <tr>\n",
       "      <th>11</th>\n",
       "      <td>12</td>\n",
       "      <td>Sujay</td>\n",
       "      <td>TE</td>\n",
       "      <td>7.862</td>\n",
       "      <td>22.0</td>\n",
       "    </tr>\n",
       "    <tr>\n",
       "      <th>12</th>\n",
       "      <td>13</td>\n",
       "      <td>Subhash</td>\n",
       "      <td>BE</td>\n",
       "      <td>9.295</td>\n",
       "      <td>21.0</td>\n",
       "    </tr>\n",
       "    <tr>\n",
       "      <th>13</th>\n",
       "      <td>14</td>\n",
       "      <td>Sachin</td>\n",
       "      <td>TE</td>\n",
       "      <td>6.383</td>\n",
       "      <td>21.0</td>\n",
       "    </tr>\n",
       "    <tr>\n",
       "      <th>14</th>\n",
       "      <td>15</td>\n",
       "      <td>Shalini</td>\n",
       "      <td>TE</td>\n",
       "      <td>6.795</td>\n",
       "      <td>20.0</td>\n",
       "    </tr>\n",
       "  </tbody>\n",
       "</table>\n",
       "</div>"
      ],
      "text/plain": [
       "    roll     name class  marks   age\n",
       "0      1     Anil    TE  6.127  22.0\n",
       "2      3   Aniket    BE  8.138  19.0\n",
       "3      4  Ajinkya    TE  7.416  20.0\n",
       "4      5     Asha    TE  6.778  20.0\n",
       "5      6   Ayesha    BE  6.984  20.0\n",
       "6      7     Amar    BE  6.984  19.0\n",
       "7      8    Amita    BE  7.283  23.0\n",
       "8      9     Amol    TE  6.125  20.0\n",
       "9     10    Anmol    BE  8.316  23.0\n",
       "10    11   Surbhi    TE  7.862  23.0\n",
       "11    12    Sujay    TE  7.862  22.0\n",
       "12    13  Subhash    BE  9.295  21.0\n",
       "13    14   Sachin    TE  6.383  21.0\n",
       "14    15  Shalini    TE  6.795  20.0"
      ]
     },
     "execution_count": 77,
     "metadata": {},
     "output_type": "execute_result"
    }
   ],
   "source": [
    "df"
   ]
  },
  {
   "cell_type": "code",
   "execution_count": 80,
   "id": "8038662f",
   "metadata": {},
   "outputs": [],
   "source": [
    "df.to_csv('newfile.csv', index=False)"
   ]
  },
  {
   "cell_type": "code",
   "execution_count": null,
   "id": "17c3bbc0",
   "metadata": {},
   "outputs": [],
   "source": []
  },
  {
   "cell_type": "code",
   "execution_count": null,
   "id": "81333160",
   "metadata": {},
   "outputs": [],
   "source": []
  }
 ],
 "metadata": {
  "kernelspec": {
   "display_name": "Python 3 (ipykernel)",
   "language": "python",
   "name": "python3"
  },
  "language_info": {
   "codemirror_mode": {
    "name": "ipython",
    "version": 3
   },
   "file_extension": ".py",
   "mimetype": "text/x-python",
   "name": "python",
   "nbconvert_exporter": "python",
   "pygments_lexer": "ipython3",
   "version": "3.9.12"
  }
 },
 "nbformat": 4,
 "nbformat_minor": 5
}
