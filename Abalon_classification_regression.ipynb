{
 "cells": [
  {
   "cell_type": "code",
   "execution_count": 1,
   "id": "c75c1ee6",
   "metadata": {},
   "outputs": [
    {
     "ename": "SyntaxError",
     "evalue": "invalid syntax (2105639772.py, line 1)",
     "output_type": "error",
     "traceback": [
      "\u001b[1;36m  Cell \u001b[1;32mIn[1], line 1\u001b[1;36m\u001b[0m\n\u001b[1;33m    Download Abalone dataset. (URL: http://archive.ics.uci.edu/ml/datasets/Abalone) Data set\u001b[0m\n\u001b[1;37m             ^\u001b[0m\n\u001b[1;31mSyntaxError\u001b[0m\u001b[1;31m:\u001b[0m invalid syntax\n"
     ]
    }
   ],
   "source": [
    "Download Abalone dataset. (URL: http://archive.ics.uci.edu/ml/datasets/Abalone) Data set\n",
    "has total 8 Number of Attributes. Sex nominal M, F, and I (infant) Length continuous mm\n",
    "Longest shell measurement Diameter continuous mm perpendicular to length Height\n",
    "continuous mm with meat in shell Whole weight continuous grams whole abalone Shucked\n",
    "weight continuous grams weight of meat Viscera weight continuous grams gut weight\n",
    "(after bleeding) Shell weight continuous grams after being dried Rings (age/class of\n",
    "abalone)\n",
    "Load the data from data file and split it into training and test datasets. Summarize the properties\n",
    "in the training dataset. The number of rings is the value to predict: either as a continuous value\n",
    "or as a classification problem. Predict the age of abalone from physical measurements using\n",
    "linear regression or predict ring class as classification problem"
   ]
  },
  {
   "cell_type": "code",
   "execution_count": null,
   "id": "2e667ceb",
   "metadata": {},
   "outputs": [],
   "source": [
    "import pandas as pd"
   ]
  },
  {
   "cell_type": "code",
   "execution_count": null,
   "id": "e175dfee",
   "metadata": {},
   "outputs": [],
   "source": [
    "cols =['sex','Length','Diameter','Height','Whole Weight','Shucked weight','viscera weight','shell weight','Rings']"
   ]
  },
  {
   "cell_type": "code",
   "execution_count": null,
   "id": "b7057454",
   "metadata": {},
   "outputs": [],
   "source": [
    "df = pd.read_csv('https://archive.ics.uci.edu/ml/machine-learning-databases/abalone/abalone.data', names=cols)"
   ]
  },
  {
   "cell_type": "code",
   "execution_count": null,
   "id": "b811a0e5",
   "metadata": {},
   "outputs": [],
   "source": [
    "df"
   ]
  },
  {
   "cell_type": "code",
   "execution_count": null,
   "id": "175af77f",
   "metadata": {},
   "outputs": [],
   "source": [
    "df.shape\n"
   ]
  },
  {
   "cell_type": "code",
   "execution_count": null,
   "id": "e8810596",
   "metadata": {},
   "outputs": [],
   "source": [
    "df.head\n"
   ]
  },
  {
   "cell_type": "code",
   "execution_count": null,
   "id": "36d9bc68",
   "metadata": {},
   "outputs": [],
   "source": [
    "###separate the data inp/out\n"
   ]
  },
  {
   "cell_type": "code",
   "execution_count": null,
   "id": "6342fb90",
   "metadata": {},
   "outputs": [],
   "source": [
    "x = df.drop('Rings',axis =1)\n",
    "y = df['Rings']"
   ]
  },
  {
   "cell_type": "code",
   "execution_count": null,
   "id": "0c9bc09f",
   "metadata": {},
   "outputs": [],
   "source": [
    "len(set(y))"
   ]
  },
  {
   "cell_type": "code",
   "execution_count": null,
   "id": "26f2c9af",
   "metadata": {},
   "outputs": [],
   "source": [
    "import seaborn as sns\n",
    "sns.countplot(x=y);"
   ]
  },
  {
   "cell_type": "code",
   "execution_count": null,
   "id": "610438fa",
   "metadata": {},
   "outputs": [],
   "source": [
    "y.value_counts()"
   ]
  },
  {
   "cell_type": "code",
   "execution_count": null,
   "id": "52127fee",
   "metadata": {},
   "outputs": [],
   "source": [
    "x.describe()"
   ]
  },
  {
   "cell_type": "code",
   "execution_count": null,
   "id": "a485c344",
   "metadata": {},
   "outputs": [],
   "source": [
    "pip install imbalanced-learn"
   ]
  },
  {
   "cell_type": "code",
   "execution_count": null,
   "id": "281f5a61",
   "metadata": {},
   "outputs": [],
   "source": [
    "from imblearn.over_sampling import RandomOverSampler"
   ]
  },
  {
   "cell_type": "code",
   "execution_count": null,
   "id": "c1d2dd35",
   "metadata": {},
   "outputs": [],
   "source": [
    "ros=RandomOverSampler(random_state=0)"
   ]
  },
  {
   "cell_type": "code",
   "execution_count": 2,
   "id": "4d40777e",
   "metadata": {},
   "outputs": [
    {
     "ename": "NameError",
     "evalue": "name 'ros' is not defined",
     "output_type": "error",
     "traceback": [
      "\u001b[1;31m---------------------------------------------------------------------------\u001b[0m",
      "\u001b[1;31mNameError\u001b[0m                                 Traceback (most recent call last)",
      "Cell \u001b[1;32mIn[2], line 1\u001b[0m\n\u001b[1;32m----> 1\u001b[0m x_res,y_res \u001b[38;5;241m=\u001b[39m \u001b[43mros\u001b[49m\u001b[38;5;241m.\u001b[39mfit_resample(x,y)\n",
      "\u001b[1;31mNameError\u001b[0m: name 'ros' is not defined"
     ]
    }
   ],
   "source": [
    "x_res,y_res = ros.fit_resample(x,y)"
   ]
  },
  {
   "cell_type": "code",
   "execution_count": null,
   "id": "6b771b89",
   "metadata": {},
   "outputs": [],
   "source": [
    "x_res.shape\n"
   ]
  },
  {
   "cell_type": "code",
   "execution_count": null,
   "id": "4735f674",
   "metadata": {},
   "outputs": [],
   "source": [
    "y_res.value_counts()"
   ]
  },
  {
   "cell_type": "code",
   "execution_count": null,
   "id": "f42266b5",
   "metadata": {},
   "outputs": [],
   "source": [
    "sns.countplot(x=y_res)"
   ]
  },
  {
   "cell_type": "code",
   "execution_count": null,
   "id": "794ead35",
   "metadata": {},
   "outputs": [],
   "source": [
    "sns.countplot(x=y_res)"
   ]
  },
  {
   "cell_type": "code",
   "execution_count": null,
   "id": "92de7fad",
   "metadata": {},
   "outputs": [],
   "source": [
    "###normalization"
   ]
  },
  {
   "cell_type": "code",
   "execution_count": null,
   "id": "0bf8175e",
   "metadata": {},
   "outputs": [],
   "source": [
    "from sklearn.preprocessing import LabelEncoder\n",
    "le = LabelEncoder()\n",
    "x_res['Sex'] = le.fit_transform[x_res['Sex']]"
   ]
  },
  {
   "cell_type": "code",
   "execution_count": null,
   "id": "089264a4",
   "metadata": {},
   "outputs": [],
   "source": [
    "from sklearn.preprocessing import LabelEncoder\n",
    "le = LabelEncoder()\n",
    "x_res['sex']=le.fit_transform(x_res['sex'])"
   ]
  },
  {
   "cell_type": "code",
   "execution_count": null,
   "id": "1c71c33d",
   "metadata": {},
   "outputs": [],
   "source": [
    "x_res['sex'].value"
   ]
  },
  {
   "cell_type": "code",
   "execution_count": null,
   "id": "56f3687e",
   "metadata": {},
   "outputs": [],
   "source": [
    "x_res['sex'].value_counts()"
   ]
  },
  {
   "cell_type": "code",
   "execution_count": null,
   "id": "9d9953c4",
   "metadata": {},
   "outputs": [],
   "source": [
    "le.classes_"
   ]
  },
  {
   "cell_type": "code",
   "execution_count": null,
   "id": "c76d0e68",
   "metadata": {},
   "outputs": [],
   "source": [
    "#normalization"
   ]
  },
  {
   "cell_type": "code",
   "execution_count": null,
   "id": "37197452",
   "metadata": {},
   "outputs": [],
   "source": [
    "from sklearn.preprocessing import MinMaxScaler\n"
   ]
  },
  {
   "cell_type": "code",
   "execution_count": null,
   "id": "81c77eaf",
   "metadata": {},
   "outputs": [],
   "source": [
    "Scaler=MinMaxScaler()"
   ]
  },
  {
   "cell_type": "code",
   "execution_count": null,
   "id": "3008d8a6",
   "metadata": {},
   "outputs": [],
   "source": [
    "x_scaled = scaler.fit_transform(x_res ,y_res)"
   ]
  },
  {
   "cell_type": "code",
   "execution_count": null,
   "id": "49bc9f53",
   "metadata": {},
   "outputs": [],
   "source": [
    "pd.DataFrame(x_scaled, columns=x.columns).describe()"
   ]
  },
  {
   "cell_type": "code",
   "execution_count": null,
   "id": "89b49eff",
   "metadata": {},
   "outputs": [],
   "source": [
    "###cross validation"
   ]
  },
  {
   "cell_type": "code",
   "execution_count": null,
   "id": "844c6362",
   "metadata": {},
   "outputs": [],
   "source": [
    "from sklearn.model_selection import train_test_split"
   ]
  },
  {
   "cell_type": "code",
   "execution_count": null,
   "id": "eccbeab6",
   "metadata": {},
   "outputs": [],
   "source": [
    "x_train, x_test, y_test = train_test_split(x_scaled, y_res, random_state=0, test_size=0.25)\n",
    "#x_train.shape\n",
    "#x_test.shape"
   ]
  },
  {
   "cell_type": "code",
   "execution_count": null,
   "id": "89868798",
   "metadata": {},
   "outputs": [],
   "source": [
    "x_train.shape\n"
   ]
  },
  {
   "cell_type": "code",
   "execution_count": null,
   "id": "1a1586c3",
   "metadata": {},
   "outputs": [],
   "source": [
    "###build the classification machine learning model"
   ]
  },
  {
   "cell_type": "code",
   "execution_count": null,
   "id": "9302a197",
   "metadata": {},
   "outputs": [],
   "source": [
    "from sklearn.tree import DecisionTreeClassifier"
   ]
  },
  {
   "cell_type": "code",
   "execution_count": null,
   "id": "b9118646",
   "metadata": {},
   "outputs": [],
   "source": [
    "dt = DecisionTreeClassifier(random_state=0)"
   ]
  },
  {
   "cell_type": "code",
   "execution_count": null,
   "id": "439aa34f",
   "metadata": {},
   "outputs": [],
   "source": [
    "dt.fit(x_train, y_train)"
   ]
  },
  {
   "cell_type": "code",
   "execution_count": null,
   "id": "a69eaa69",
   "metadata": {},
   "outputs": [],
   "source": [
    "##performance evaluation"
   ]
  },
  {
   "cell_type": "code",
   "execution_count": null,
   "id": "7298c8c8",
   "metadata": {},
   "outputs": [],
   "source": [
    "y_pred = dt.predict(x_test)"
   ]
  },
  {
   "cell_type": "code",
   "execution_count": null,
   "id": "fcd0869e",
   "metadata": {},
   "outputs": [],
   "source": [
    "from sklearn.metrics import accuracy_score"
   ]
  },
  {
   "cell_type": "code",
   "execution_count": null,
   "id": "28927bd9",
   "metadata": {},
   "outputs": [],
   "source": [
    "accuracy_score(y_test,y_pred)"
   ]
  }
 ],
 "metadata": {
  "kernelspec": {
   "display_name": "Python 3 (ipykernel)",
   "language": "python",
   "name": "python3"
  },
  "language_info": {
   "codemirror_mode": {
    "name": "ipython",
    "version": 3
   },
   "file_extension": ".py",
   "mimetype": "text/x-python",
   "name": "python",
   "nbconvert_exporter": "python",
   "pygments_lexer": "ipython3",
   "version": "3.9.12"
  }
 },
 "nbformat": 4,
 "nbformat_minor": 5
}
